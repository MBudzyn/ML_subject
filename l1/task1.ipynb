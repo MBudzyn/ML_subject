{
 "nbformat": 4,
 "nbformat_minor": 0,
 "metadata": {
  "colab": {
   "provenance": []
  },
  "kernelspec": {
   "name": "python3",
   "language": "python",
   "display_name": "Python 3 (ipykernel)"
  },
  "language_info": {
   "name": "python"
  }
 },
 "cells": [
  {
   "cell_type": "code",
   "execution_count": 1,
   "metadata": {
    "colab": {
     "base_uri": "https://localhost:8080/"
    },
    "id": "NLpQWOBc_sMf",
    "outputId": "4fc65809-cc25-4921-b8d8-421221c7a82e",
    "ExecuteTime": {
     "end_time": "2024-10-25T09:43:45.553521100Z",
     "start_time": "2024-10-25T09:43:45.519005200Z"
    }
   },
   "outputs": [
    {
     "name": "stdout",
     "output_type": "stream",
     "text": [
      "hello world\n"
     ]
    }
   ],
   "source": [
    "print(\"hello world\")"
   ]
  },
  {
   "cell_type": "code",
   "outputs": [
    {
     "name": "stdout",
     "output_type": "stream",
     "text": [
      "hello world3\n"
     ]
    }
   ],
   "source": [
    "print(\"hello world3\")"
   ],
   "metadata": {
    "collapsed": false,
    "ExecuteTime": {
     "end_time": "2024-10-25T09:43:45.584521300Z",
     "start_time": "2024-10-25T09:43:45.542519700Z"
    }
   },
   "execution_count": 2
  }
 ]
}
