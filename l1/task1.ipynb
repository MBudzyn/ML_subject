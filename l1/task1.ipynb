{
 "nbformat": 4,
 "nbformat_minor": 0,
 "metadata": {
  "colab": {
   "provenance": []
  },
  "kernelspec": {
   "name": "python3",
   "language": "python",
   "display_name": "Python 3 (ipykernel)"
  },
  "language_info": {
   "name": "python"
  }
 },
 "cells": [
  {
   "cell_type": "code",
   "execution_count": 39,
   "metadata": {
    "colab": {
     "base_uri": "https://localhost:8080/"
    },
    "id": "NLpQWOBc_sMf",
    "outputId": "4fc65809-cc25-4921-b8d8-421221c7a82e",
    "ExecuteTime": {
     "end_time": "2024-10-26T09:23:03.446326Z",
     "start_time": "2024-10-26T09:23:03.436321800Z"
    }
   },
   "outputs": [],
   "source": [
    "import numpy as np\n",
    "import pandas as pd\n",
    "import matplotlib.pyplot as plt\n",
    "from sklearn.datasets import fetch_openml\n",
    "\n",
    "\n"
   ]
  },
  {
   "cell_type": "code",
   "outputs": [],
   "source": [
    "mnist_data = fetch_openml('mnist_784', version=1)"
   ],
   "metadata": {
    "collapsed": false,
    "ExecuteTime": {
     "end_time": "2024-10-26T09:23:07.876598Z",
     "start_time": "2024-10-26T09:23:03.445325800Z"
    }
   },
   "execution_count": 40
  },
  {
   "cell_type": "code",
   "outputs": [
    {
     "data": {
      "text/plain": "dict_keys(['data', 'target', 'frame', 'categories', 'feature_names', 'target_names', 'DESCR', 'details', 'url'])"
     },
     "execution_count": 41,
     "metadata": {},
     "output_type": "execute_result"
    }
   ],
   "source": [
    "mnist_data.keys()"
   ],
   "metadata": {
    "collapsed": false,
    "ExecuteTime": {
     "end_time": "2024-10-26T09:23:07.893620600Z",
     "start_time": "2024-10-26T09:23:07.878963700Z"
    }
   },
   "execution_count": 41
  },
  {
   "cell_type": "code",
   "outputs": [],
   "source": [
    "X_data = mnist_data['data'].values  \n",
    "y_data = mnist_data['target'].values\n",
    "y_data = y_data.astype(int)\n",
    "X_data = X_data / 255.0\n"
   ],
   "metadata": {
    "collapsed": false,
    "ExecuteTime": {
     "end_time": "2024-10-26T09:23:08.111120400Z",
     "start_time": "2024-10-26T09:23:07.893620600Z"
    }
   },
   "execution_count": 42
  },
  {
   "cell_type": "code",
   "outputs": [],
   "source": [
    "sample_size = 7000\n",
    "random_indices = np.random.choice(X_data.shape[0], sample_size, replace=False)\n",
    "X_train, X_test = X_data[random_indices][:6000], X_data[random_indices][6000:]\n",
    "y_train, y_test = y_data[random_indices][:6000], y_data[random_indices][6000:]"
   ],
   "metadata": {
    "collapsed": false,
    "ExecuteTime": {
     "end_time": "2024-10-26T09:23:08.345081300Z",
     "start_time": "2024-10-26T09:23:08.114544300Z"
    }
   },
   "execution_count": 43
  },
  {
   "cell_type": "code",
   "outputs": [
    {
     "data": {
      "text/plain": "<Figure size 640x480 with 1 Axes>",
      "image/png": "[encoded data removed]"
     },
     "metadata": {},
     "output_type": "display_data"
    },
    {
     "name": "stdout",
     "output_type": "stream",
     "text": [
      "Label: 3\n"
     ]
    }
   ],
   "source": [
    "fig = plt.figure\n",
    "plt.imshow(X_data[44].reshape(28,28), cmap='gray')\n",
    "plt.show()\n",
    "#and the according label is\n",
    "print(\"Label:\", y_data[44])"
   ],
   "metadata": {
    "collapsed": false,
    "ExecuteTime": {
     "end_time": "2024-10-26T09:23:08.435609900Z",
     "start_time": "2024-10-26T09:23:08.346082Z"
    }
   },
   "execution_count": 44
  },
  {
   "cell_type": "code",
   "outputs": [],
   "source": [],
   "metadata": {
    "collapsed": false,
    "ExecuteTime": {
     "end_time": "2024-10-26T09:23:08.487135300Z",
     "start_time": "2024-10-26T09:23:08.437761400Z"
    }
   },
   "execution_count": 44
  }
 ]
}
