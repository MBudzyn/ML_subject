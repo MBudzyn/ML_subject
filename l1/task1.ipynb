{
 "nbformat": 4,
 "nbformat_minor": 0,
 "metadata": {
  "colab": {
   "provenance": []
  },
  "kernelspec": {
   "name": "python3",
   "language": "python",
   "display_name": "Python 3 (ipykernel)"
  },
  "language_info": {
   "name": "python"
  }
 },
 "cells": [
  {
   "cell_type": "code",
   "execution_count": 161,
   "metadata": {
    "colab": {
     "base_uri": "https://localhost:8080/"
    },
    "id": "NLpQWOBc_sMf",
    "outputId": "4fc65809-cc25-4921-b8d8-421221c7a82e",
    "ExecuteTime": {
     "end_time": "2024-10-26T10:57:24.485350400Z",
     "start_time": "2024-10-26T10:57:24.476575200Z"
    }
   },
   "outputs": [],
   "source": [
    "import numpy as np\n",
    "import pandas as pd\n",
    "import matplotlib.pyplot as plt\n",
    "from sklearn.datasets import fetch_openml\n",
    "from sklearn.neighbors import KNeighborsClassifier\n",
    "from sklearn.model_selection import train_test_split\n",
    "from sklearn.metrics import accuracy_score\n",
    "\n",
    "\n"
   ]
  },
  {
   "cell_type": "code",
   "outputs": [],
   "source": [
    "mnist_data = fetch_openml('mnist_784', version=1)"
   ],
   "metadata": {
    "collapsed": false,
    "is_executing": true,
    "ExecuteTime": {
     "start_time": "2024-10-26T10:57:24.488350800Z"
    }
   },
   "execution_count": null
  },
  {
   "cell_type": "code",
   "outputs": [],
   "source": [
    "X_data = mnist_data['data'].values  \n",
    "y_data = mnist_data['target'].values\n",
    "y_data = y_data.astype(int)\n",
    "X_data = X_data / 255.0\n",
    "sample_size = 7000\n",
    "random_indices = np.random.choice(X_data.shape[0], sample_size, replace=False)\n",
    "X_data = X_data[random_indices]\n",
    "y_data = y_data[random_indices]\n",
    "k_values = [i for i in range(1,11)]\n"
   ],
   "metadata": {
    "collapsed": false,
    "is_executing": true
   },
   "execution_count": null
  },
  {
   "cell_type": "code",
   "outputs": [],
   "source": [
    "\n",
    "X_train, X_test, y_train, y_test = train_test_split(X_data, y_data, test_size=0.2, random_state=42)\n",
    "print(X_train.shape, X_test.shape, y_train.shape, y_test.shape)"
   ],
   "metadata": {
    "collapsed": false,
    "is_executing": true
   },
   "execution_count": null
  },
  {
   "cell_type": "code",
   "outputs": [],
   "source": [
    "fig = plt.figure\n",
    "plt.imshow(X_data[44].reshape(28,28), cmap='gray')\n",
    "plt.show()\n",
    "#and the according label is\n",
    "print(\"Label:\", y_data[44])"
   ],
   "metadata": {
    "collapsed": false,
    "is_executing": true
   },
   "execution_count": null
  },
  {
   "cell_type": "code",
   "outputs": [],
   "source": [
    "\n",
    "accuracies = []\n",
    "\n",
    "for i in k_values:\n",
    "    # Tworzenie modelu KNN\n",
    "    knn = KNeighborsClassifier(n_neighbors=i)\n",
    "    knn.fit(X_train, y_train)  # Trenowanie modelu\n",
    "    y_pred = knn.predict(X_test)  \n",
    "    \n",
    "    # Obliczanie dokładności\n",
    "    accuracy = accuracy_score(y_test, y_pred)\n",
    "    accuracies.append(accuracy)\n",
    "    print(f'n={i}, Accuracy={accuracy:.4f}')"
   ],
   "metadata": {
    "collapsed": false,
    "is_executing": true
   },
   "execution_count": null
  },
  {
   "cell_type": "code",
   "outputs": [],
   "source": [
    "plt.figure(figsize=(6, 4))\n",
    "plt.plot(k_values, accuracies, marker='o')\n",
    "plt.title('Dokładność KNN w zależności od liczby sąsiadów')\n",
    "plt.xlabel('Liczba sąsiadów (n)')\n",
    "plt.ylabel('Dokładność')\n",
    "plt.xticks(k_values)\n",
    "plt.grid()\n",
    "plt.show()"
   ],
   "metadata": {
    "collapsed": false,
    "is_executing": true
   },
   "execution_count": null
  },
  {
   "cell_type": "code",
   "outputs": [],
   "source": [],
   "metadata": {
    "collapsed": false,
    "is_executing": true
   },
   "execution_count": null
  },
  {
   "cell_type": "code",
   "outputs": [],
   "source": [
    "\n",
    "bootstrap_iterations = [1, 2, 11, 22, 44, 88]  # Możesz dostosować do swoich potrzeb\n",
    "results = {k: [] for k in k_values}\n",
    "\n",
    "# Iteracja po k\n",
    "for k in k_values:\n",
    "    for iters in bootstrap_iterations:\n",
    "        accuracies = []\n",
    "        for _ in range(iters):\n",
    "            \n",
    "            X_train, X_test, y_train, y_test = train_test_split(X_data, y_data, test_size=0.2, random_state=None)\n",
    "            knn = KNeighborsClassifier(n_neighbors=k)\n",
    "            knn.fit(X_train, y_train)\n",
    "            y_pred = knn.predict(X_test)\n",
    "            accuracy = accuracy_score(y_test, y_pred)\n",
    "            accuracies.append(accuracy)\n",
    "\n",
    "        mean_accuracy = np.mean(accuracies)\n",
    "        results[k].append(mean_accuracy)\n",
    "\n",
    "for k, mean_accuracies in results.items():\n",
    "    print(f'Wyniki dla k={k}: {mean_accuracies}')"
   ],
   "metadata": {
    "collapsed": false,
    "is_executing": true
   },
   "execution_count": null
  },
  {
   "cell_type": "code",
   "outputs": [],
   "source": [
    "plt.figure(figsize=(10, 6))\n",
    "for i in k_values:\n",
    "    plt.plot(bootstrap_iterations, results[i], marker='o', label=f'k={i}')\n",
    "plt.legend(loc='lower right', ncol=3, title='Liczba sąsiadów (k)')\n",
    "plt.title('Dokładność KNN w zależności od liczby iteracji bootstrap')\n",
    "\n"
   ],
   "metadata": {
    "collapsed": false,
    "is_executing": true
   },
   "execution_count": null
  },
  {
   "cell_type": "code",
   "outputs": [],
   "source": [
    "plt.figure(figsize=(10, 6))\n",
    "results2 = {k: np.mean(results[k]) for k in results.keys()}\n",
    "print(results2)\n",
    "plt.plot(results2.keys(),results2.values(), marker='o')\n",
    "plt.title('Średnia Dokładność KNN w zależności od liczby sąsiadów')\n",
    "plt.xlabel('Liczba sąsiadów (k)')\n",
    "plt.ylabel('Średnia dokładność')\n",
    "plt.grid()"
   ],
   "metadata": {
    "collapsed": false,
    "is_executing": true
   },
   "execution_count": null
  },
  {
   "cell_type": "code",
   "outputs": [],
   "source": [],
   "metadata": {
    "collapsed": false,
    "is_executing": true
   },
   "execution_count": null
  }
 ]
}
