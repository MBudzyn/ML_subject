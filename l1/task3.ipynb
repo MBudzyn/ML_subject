{
 "nbformat": 4,
 "nbformat_minor": 0,
 "metadata": {
  "colab": {
   "provenance": []
  },
  "kernelspec": {
   "name": "python3",
   "language": "python",
   "display_name": "Python 3 (ipykernel)"
  },
  "language_info": {
   "name": "python"
  }
 },
 "cells": [
  {
   "cell_type": "code",
   "execution_count": 1,
   "metadata": {
    "colab": {
     "base_uri": "https://localhost:8080/"
    },
    "id": "NLpQWOBc_sMf",
    "outputId": "4fc65809-cc25-4921-b8d8-421221c7a82e",
    "ExecuteTime": {
     "end_time": "2024-10-27T11:31:25.833610300Z",
     "start_time": "2024-10-27T11:31:19.001821100Z"
    }
   },
   "outputs": [],
   "source": [
    "import numpy as np\n",
    "import pandas as pd\n",
    "import matplotlib.pyplot as plt\n",
    "\n"
   ]
  },
  {
   "cell_type": "code",
   "outputs": [],
   "source": [],
   "metadata": {
    "collapsed": false,
    "ExecuteTime": {
     "end_time": "2024-10-27T11:31:25.998328200Z",
     "start_time": "2024-10-27T11:31:25.970525Z"
    }
   },
   "execution_count": 1
  }
 ]
}
